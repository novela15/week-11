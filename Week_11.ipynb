{
  "nbformat": 4,
  "nbformat_minor": 0,
  "metadata": {
    "colab": {
      "provenance": []
    },
    "kernelspec": {
      "name": "python3",
      "display_name": "Python 3"
    },
    "language_info": {
      "name": "python"
    }
  },
  "cells": [
    {
      "cell_type": "markdown",
      "source": [
        "# **Weekkly Exercise 1**"
      ],
      "metadata": {
        "id": "IQ0sKJm61pyP"
      }
    },
    {
      "cell_type": "code",
      "source": [
        "import matematika\n",
        "\n",
        "# menghitung luas lingkaran\n",
        "jari_jari = float(input(\"Masukkan jari-jari lingkaran: \"))\n",
        "luas_lingkaran = matematika.hitung_luas_lingkaran(jari_jari)\n",
        "print(f\"Luas lingkaran dengan jari-jari {jari_jari} adalah: {luas_lingkaran}\")\n",
        "\n",
        "# menghitung luas persegi\n",
        "sisi = float(input(\"Masukkan sisi persegi: \"))\n",
        "luas_persegi = matematika.hitung_luas_persegi(sisi)\n",
        "print(f\"Luas persegi dengan sisi {sisi} adalah; {luas_persegi}\")"
      ],
      "metadata": {
        "id": "JAxjq6H0wbPE",
        "colab": {
          "base_uri": "https://localhost:8080/"
        },
        "outputId": "f0083ec1-d8c6-43cb-c5da-e9898970066e"
      },
      "execution_count": null,
      "outputs": [
        {
          "output_type": "stream",
          "name": "stdout",
          "text": [
            "Masukkan jari-jari lingkaran: 6\n",
            "Luas lingkaran dengan jari-jari 6.0 adalah: 113.09724\n",
            "Masukkan sisi persegi: 5\n",
            "Luas persegi dengan sisi 5.0 adalah; 25.0\n"
          ]
        }
      ]
    },
    {
      "cell_type": "markdown",
      "source": [
        "# **Weekly Exercise 2**"
      ],
      "metadata": {
        "id": "d1048lbXhOpy"
      }
    },
    {
      "cell_type": "code",
      "source": [
        "import math\n",
        "\n",
        "# menghitung akar kuadrat\n",
        "angka = 18\n",
        "akar_kuadrat = math.sqrt(angka)\n",
        "print(f\"Akar kuadrat dari {angka} adalah: {akar_kuadrat}\")\n",
        "\n",
        "# menghitung nilai pi\n",
        "nilai_pi = math.sqrt(angka)\n",
        "print(f\"Nilai pi adalah: {nilai_pi}\")\n",
        "\n",
        "# menghitung sinus dari (dalam radian)\n",
        "sudut = 20\n",
        "sudut_radian = math.radians(sudut)\n",
        "print(f\"{sudut} derajat adalah {sudut_radian} radian\")\n",
        "\n",
        "# menghitung eksponen\n",
        "angka_eksponen = 2\n",
        "angka_eksponen_kuadrat = math.exp(angka_eksponen)\n",
        "print(f\"Eksponen dari {angka_eksponen} adalah: {angka_eksponen_kuadrat}\")\n",
        "\n",
        "# menghitung faktorial\n",
        "angka_faktorial = 5\n",
        "faktorial_angka = math.factorial(angka_faktorial)\n",
        "print(f\"Faktorial dari {angka_faktorial} adalah: {faktorial_angka}\")"
      ],
      "metadata": {
        "colab": {
          "base_uri": "https://localhost:8080/"
        },
        "id": "Mkpm6m9-hU-5",
        "outputId": "76589e1c-72f4-400b-eee9-fe8bdb02b851"
      },
      "execution_count": null,
      "outputs": [
        {
          "output_type": "stream",
          "name": "stdout",
          "text": [
            "Akar kuadrat dari 18 adalah: 4.242640687119285\n",
            "Nilai pi adalah: 4.242640687119285\n",
            "20 derajat adalah 0.3490658503988659 radian\n",
            "Eksponen dari 2 adalah: 7.38905609893065\n",
            "Faktorial dari 5 adalah: 120\n"
          ]
        }
      ]
    }
  ]
}