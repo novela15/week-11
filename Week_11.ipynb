{
  "nbformat": 4,
  "nbformat_minor": 0,
  "metadata": {
    "colab": {
      "provenance": []
    },
    "kernelspec": {
      "name": "python3",
      "display_name": "Python 3"
    },
    "language_info": {
      "name": "python"
    }
  },
  "cells": [
    {
      "cell_type": "markdown",
      "source": [
        "# **Weekkly Exercise 1**"
      ],
      "metadata": {
        "id": "IQ0sKJm61pyP"
      }
    },
    {
      "cell_type": "code",
      "source": [
        "import matematika\n",
        "\n",
        "# menghitung luas lingkaran\n",
        "jari_jari = int(input(\"Masukkan jari-jari lingkaran: \"))\n",
        "luas_lingkaran = matematika.hitung_luas_lingkaran(jari_jari)\n",
        "print(f\"Luas lingkaran dengan jari-jari {jari_jari} adalah: {luas_lingkaran}\")\n",
        "\n",
        "# menghitung luas persegi\n",
        "sisi = int(input(\"Masukkan sisi persegi: \"))\n",
        "luas_persegi = matematika.hitung_luas_persegi(sisi)\n",
        "print(f\"Luas persegi dengan sisi {sisi} adalah: {luas_persegi}\")"
      ],
      "metadata": {
        "id": "JAxjq6H0wbPE",
        "colab": {
          "base_uri": "https://localhost:8080/"
        },
        "outputId": "1cd1ace3-839e-4d71-8903-a16cb51a1efb"
      },
      "execution_count": 21,
      "outputs": [
        {
          "output_type": "stream",
          "name": "stdout",
          "text": [
            "Masukkan jari-jari lingkaran: 7\n",
            "Luas lingkaran dengan jari-jari 7 adalah: (3, 14, 3, 14, 3, 14, 3, 14, 3, 14, 3, 14, 3, 14, 3, 14, 3, 14, 3, 14, 3, 14, 3, 14, 3, 14, 3, 14, 3, 14, 3, 14, 3, 14, 3, 14, 3, 14, 3, 14, 3, 14, 3, 14, 3, 14, 3, 14, 3, 14, 3, 14, 3, 14, 3, 14, 3, 14, 3, 14, 3, 14, 3, 14, 3, 14, 3, 14, 3, 14, 3, 14, 3, 14, 3, 14, 3, 14, 3, 14, 3, 14, 3, 14, 3, 14, 3, 14, 3, 14, 3, 14, 3, 14, 3, 14, 3, 14)\n",
            "Masukkan sisi persegi: 7\n",
            "Luas persegi dengan sisi 7 adalah: 49\n"
          ]
        }
      ]
    },
    {
      "cell_type": "markdown",
      "source": [
        "# **Weekly Exercise 2**"
      ],
      "metadata": {
        "id": "d1048lbXhOpy"
      }
    },
    {
      "cell_type": "code",
      "source": [
        "import math\n",
        "\n",
        "# menghitung akar kuadrat\n",
        "angka = 18\n",
        "akar_kuadrat = math.sqrt(angka)\n",
        "print(f\"Akar kuadrat dari {angka} adalah: {akar_kuadrat}\")\n",
        "\n",
        "# menghitung nilai pi\n",
        "nilai_pi = math.sqrt(angka)\n",
        "print(f\"Nilai pi adalah: {nilai_pi}\")\n",
        "\n",
        "# menghitung sinus dari (dalam radian)\n",
        "sudut = 20\n",
        "sudut_radian = math.radians(sudut)\n",
        "print(f\"{sudut} derajat adalah {sudut_radian} radian\")\n",
        "\n",
        "# menghitung eksponen\n",
        "angka_eksponen = 2\n",
        "angka_eksponen_kuadrat = math.exp(angka_eksponen)\n",
        "print(f\"Eksponen dari {angka_eksponen} adalah: {angka_eksponen_kuadrat}\")\n",
        "\n",
        "# menghitung faktorial\n",
        "angka_faktorial = 5\n",
        "faktorial_angka = math.factorial(angka_faktorial)\n",
        "print(f\"Faktorial dari {angka_faktorial} adalah: {faktorial_angka}\")"
      ],
      "metadata": {
        "colab": {
          "base_uri": "https://localhost:8080/"
        },
        "id": "Mkpm6m9-hU-5",
        "outputId": "e0d946ff-1a1a-4831-edda-8d3154fe896b"
      },
      "execution_count": 23,
      "outputs": [
        {
          "output_type": "stream",
          "name": "stdout",
          "text": [
            "Akar kuadrat dari 18 adalah: 4.242640687119285\n",
            "Nilai pi adalah: 4.242640687119285\n",
            "20 derajat adalah 0.3490658503988659 radian\n",
            "Eksponen dari 2 adalah: 7.38905609893065\n",
            "Faktorial dari 5 adalah: 120\n"
          ]
        }
      ]
    }
  ]
}